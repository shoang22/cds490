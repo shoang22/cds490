{
 "cells": [
  {
   "cell_type": "markdown",
   "metadata": {},
   "source": [
    "# Model 1 - Sequential Neural Network"
   ]
  },
  {
   "cell_type": "code",
   "execution_count": 50,
   "metadata": {},
   "outputs": [],
   "source": [
    "import numpy as np\n",
    "import pandas as pd\n",
    "import tensorflow as tf\n",
    "from tensorflow.keras.layers import Dense, Input, LSTM, Embedding, Dropout, Activation\n",
    "from tensorflow.keras.layers import Bidirectional, GlobalMaxPool1D\n",
    "from tensorflow.keras.models import Model, Sequential\n",
    "from tensorflow.keras import initializers, regularizers, constraints, optimizers, layers"
   ]
  },
  {
   "cell_type": "code",
   "execution_count": 3,
   "metadata": {},
   "outputs": [],
   "source": [
    "# Creating the model with only the quantitative values\n",
    "# I removed the columns we discussed during our meeting \n",
    "df = pd.read_csv('data_cleaned.csv',index_col=0)"
   ]
  },
  {
   "cell_type": "code",
   "execution_count": 4,
   "metadata": {},
   "outputs": [],
   "source": [
    "# set X and y\n",
    "X = df.select_dtypes(exclude=['object']).drop('real',axis=1)\n",
    "y = df['real']"
   ]
  },
  {
   "cell_type": "code",
   "execution_count": 5,
   "metadata": {},
   "outputs": [],
   "source": [
    "from sklearn.model_selection import train_test_split\n",
    "X_train,X_test,y_train,y_test = train_test_split(X,y,test_size=0.3,random_state=101)"
   ]
  },
  {
   "cell_type": "code",
   "execution_count": 6,
   "metadata": {},
   "outputs": [],
   "source": [
    "# normalize values\n",
    "from sklearn.preprocessing import MinMaxScaler\n",
    "sc = MinMaxScaler()\n",
    "X_train = np.array(sc.fit_transform(X_train))\n",
    "X_test = np.array(sc.transform(X_test))"
   ]
  },
  {
   "cell_type": "code",
   "execution_count": 7,
   "metadata": {},
   "outputs": [],
   "source": [
    "y_train = np.array(y_train) # Why did I have to do this? The the Neural Network would not fit unless I converted the train_test_split data to a numpy array\n",
    "y_test = np.array(y_test)"
   ]
  },
  {
   "cell_type": "markdown",
   "metadata": {},
   "source": [
    "# Creating a LSTM neural network instance"
   ]
  },
  {
   "cell_type": "code",
   "execution_count": 45,
   "metadata": {},
   "outputs": [],
   "source": [
    "max_features = 10000\n",
    "embed_size = 30\n",
    "maxlen = 13\n",
    "\n",
    "inp = Input(shape=(maxlen,))\n",
    "\n",
    "x = Embedding(max_features,embed_size)(inp)\n",
    "x = LSTM(20, return_sequences=True,name='lstm_layer')(x)\n",
    "\n",
    "x = GlobalMaxPool1D()(x)\n",
    "x = Dropout(0.1)(x)\n",
    "\n",
    "\n",
    "x = Dense(20,activation='relu')(x)\n",
    "x = Dropout(0.1)(x)\n",
    "\n",
    "x = Dense(1,activation='sigmoid')(x)\n",
    "\n",
    "model_lstm = Model(inputs=inp,outputs=x)\n",
    "model_lstm.compile(loss='binary_crossentropy',\n",
    "             optimizer='adam',\n",
    "             metrics=['accuracy'])"
   ]
  },
  {
   "cell_type": "code",
   "execution_count": 46,
   "metadata": {},
   "outputs": [],
   "source": [
    "from tensorflow.keras.callbacks import EarlyStopping\n",
    "early_stop = EarlyStopping(monitor='val_loss',verbose=1,patience=3)"
   ]
  },
  {
   "cell_type": "code",
   "execution_count": 47,
   "metadata": {},
   "outputs": [
    {
     "name": "stdout",
     "output_type": "stream",
     "text": [
      "Train on 7474 samples, validate on 3204 samples\n",
      "Epoch 1/1000\n",
      "7474/7474 [==============================] - 2s 294us/sample - loss: 0.6933 - accuracy: 0.4881 - val_loss: 0.6931 - val_accuracy: 0.5150\n",
      "Epoch 2/1000\n",
      "7474/7474 [==============================] - 0s 32us/sample - loss: 0.6931 - accuracy: 0.5052 - val_loss: 0.6930 - val_accuracy: 0.5162\n",
      "Epoch 3/1000\n",
      "7474/7474 [==============================] - 0s 30us/sample - loss: 0.6930 - accuracy: 0.5107 - val_loss: 0.6929 - val_accuracy: 0.5162\n",
      "Epoch 4/1000\n",
      "7474/7474 [==============================] - 0s 31us/sample - loss: 0.6929 - accuracy: 0.5120 - val_loss: 0.6927 - val_accuracy: 0.5162\n",
      "Epoch 5/1000\n",
      "7474/7474 [==============================] - 0s 33us/sample - loss: 0.6925 - accuracy: 0.5103 - val_loss: 0.6925 - val_accuracy: 0.5162\n",
      "Epoch 6/1000\n",
      "7474/7474 [==============================] - 0s 29us/sample - loss: 0.6927 - accuracy: 0.5088 - val_loss: 0.6923 - val_accuracy: 0.5162\n",
      "Epoch 7/1000\n",
      "7474/7474 [==============================] - 0s 29us/sample - loss: 0.6923 - accuracy: 0.5161 - val_loss: 0.6922 - val_accuracy: 0.5162\n",
      "Epoch 8/1000\n",
      "7474/7474 [==============================] - 0s 29us/sample - loss: 0.6919 - accuracy: 0.5159 - val_loss: 0.6920 - val_accuracy: 0.5162\n",
      "Epoch 9/1000\n",
      "7474/7474 [==============================] - 0s 31us/sample - loss: 0.6916 - accuracy: 0.5171 - val_loss: 0.6919 - val_accuracy: 0.5162\n",
      "Epoch 10/1000\n",
      "7474/7474 [==============================] - 0s 33us/sample - loss: 0.6920 - accuracy: 0.5153 - val_loss: 0.6919 - val_accuracy: 0.5162\n",
      "Epoch 11/1000\n",
      "7474/7474 [==============================] - 0s 30us/sample - loss: 0.6914 - accuracy: 0.5183 - val_loss: 0.6920 - val_accuracy: 0.5162\n",
      "Epoch 12/1000\n",
      "7474/7474 [==============================] - 0s 30us/sample - loss: 0.6914 - accuracy: 0.5239 - val_loss: 0.6918 - val_accuracy: 0.5162\n",
      "Epoch 13/1000\n",
      "7474/7474 [==============================] - 0s 29us/sample - loss: 0.6914 - accuracy: 0.5127 - val_loss: 0.6918 - val_accuracy: 0.5162\n",
      "Epoch 14/1000\n",
      "7474/7474 [==============================] - 0s 31us/sample - loss: 0.6919 - accuracy: 0.5095 - val_loss: 0.6921 - val_accuracy: 0.5162\n",
      "Epoch 15/1000\n",
      "7474/7474 [==============================] - 0s 34us/sample - loss: 0.6915 - accuracy: 0.5211 - val_loss: 0.6918 - val_accuracy: 0.5162\n",
      "Epoch 00015: early stopping\n"
     ]
    },
    {
     "data": {
      "text/plain": [
       "<tensorflow.python.keras.callbacks.History at 0x1fd9e516788>"
      ]
     },
     "execution_count": 47,
     "metadata": {},
     "output_type": "execute_result"
    }
   ],
   "source": [
    "model_lstm.fit(x=X_train, \n",
    "          y=y_train, \n",
    "          epochs=1000,\n",
    "          batch_size=256,\n",
    "          validation_data=(X_test, y_test),\n",
    "          callbacks=[early_stop]\n",
    "          )"
   ]
  },
  {
   "cell_type": "code",
   "execution_count": 58,
   "metadata": {},
   "outputs": [
    {
     "data": {
      "text/plain": [
       "<AxesSubplot:>"
      ]
     },
     "execution_count": 58,
     "metadata": {},
     "output_type": "execute_result"
    },
    {
     "data": {
      "image/png": "[encoded data removed]",
      "text/plain": [
       "<Figure size 432x288 with 1 Axes>"
      ]
     },
     "metadata": {
      "needs_background": "light"
     },
     "output_type": "display_data"
    }
   ],
   "source": [
    "lstm_loss = pd.DataFrame(model_lstm.history.history)\n",
    "lstm_loss.plot()"
   ]
  },
  {
   "cell_type": "markdown",
   "metadata": {},
   "source": [
    "# Creating a sequential neural network instance"
   ]
  },
  {
   "cell_type": "code",
   "execution_count": 59,
   "metadata": {},
   "outputs": [],
   "source": [
    "model = Sequential()\n",
    "\n",
    "# input layer\n",
    "model.add(Dense(13,  activation='relu'))\n",
    "model.add(Dropout(0.2))\n",
    "\n",
    "# hidden layer\n",
    "model.add(Dense(20, activation='relu'))\n",
    "model.add(Dropout(0.2))\n",
    "\n",
    "# hidden layer\n",
    "model.add(Dense(20, activation='relu'))\n",
    "model.add(Dropout(0.2))\n",
    "\n",
    "# output layer\n",
    "model.add(Dense(units=1,activation='sigmoid'))\n",
    "\n",
    "# Compile model\n",
    "model.compile(loss='binary_crossentropy', \n",
    "              optimizer='adam',\n",
    "              metrics=['accuracy'])"
   ]
  },
  {
   "cell_type": "code",
   "execution_count": 60,
   "metadata": {},
   "outputs": [
    {
     "name": "stdout",
     "output_type": "stream",
     "text": [
      "Train on 7474 samples, validate on 3204 samples\n",
      "Epoch 1/1000\n",
      "7474/7474 [==============================] - 0s 65us/sample - loss: 0.6952 - accuracy: 0.5103 - val_loss: 0.6898 - val_accuracy: 0.5836\n",
      "Epoch 2/1000\n",
      "7474/7474 [==============================] - 0s 6us/sample - loss: 0.6906 - accuracy: 0.5343 - val_loss: 0.6878 - val_accuracy: 0.5634\n",
      "Epoch 3/1000\n",
      "7474/7474 [==============================] - 0s 6us/sample - loss: 0.6910 - accuracy: 0.5403 - val_loss: 0.6856 - val_accuracy: 0.5893\n",
      "Epoch 4/1000\n",
      "7474/7474 [==============================] - 0s 6us/sample - loss: 0.6892 - accuracy: 0.5420 - val_loss: 0.6830 - val_accuracy: 0.6145\n",
      "Epoch 5/1000\n",
      "7474/7474 [==============================] - 0s 7us/sample - loss: 0.6859 - accuracy: 0.5587 - val_loss: 0.6794 - val_accuracy: 0.6267\n",
      "Epoch 6/1000\n",
      "7474/7474 [==============================] - 0s 7us/sample - loss: 0.6826 - accuracy: 0.5619 - val_loss: 0.6755 - val_accuracy: 0.6089\n",
      "Epoch 7/1000\n",
      "7474/7474 [==============================] - 0s 6us/sample - loss: 0.6805 - accuracy: 0.5736 - val_loss: 0.6715 - val_accuracy: 0.6314\n",
      "Epoch 8/1000\n",
      "7474/7474 [==============================] - 0s 6us/sample - loss: 0.6777 - accuracy: 0.5824 - val_loss: 0.6674 - val_accuracy: 0.6186\n",
      "Epoch 9/1000\n",
      "7474/7474 [==============================] - 0s 6us/sample - loss: 0.6759 - accuracy: 0.5809 - val_loss: 0.6626 - val_accuracy: 0.6301\n",
      "Epoch 10/1000\n",
      "7474/7474 [==============================] - 0s 6us/sample - loss: 0.6730 - accuracy: 0.5868 - val_loss: 0.6582 - val_accuracy: 0.6333\n",
      "Epoch 11/1000\n",
      "7474/7474 [==============================] - 0s 6us/sample - loss: 0.6689 - accuracy: 0.5969 - val_loss: 0.6565 - val_accuracy: 0.6267\n",
      "Epoch 12/1000\n",
      "7474/7474 [==============================] - 0s 6us/sample - loss: 0.6669 - accuracy: 0.6041 - val_loss: 0.6521 - val_accuracy: 0.6317\n",
      "Epoch 13/1000\n",
      "7474/7474 [==============================] - 0s 7us/sample - loss: 0.6629 - accuracy: 0.6060 - val_loss: 0.6505 - val_accuracy: 0.6320\n",
      "Epoch 14/1000\n",
      "7474/7474 [==============================] - 0s 6us/sample - loss: 0.6644 - accuracy: 0.6044 - val_loss: 0.6482 - val_accuracy: 0.6345\n",
      "Epoch 15/1000\n",
      "7474/7474 [==============================] - 0s 6us/sample - loss: 0.6596 - accuracy: 0.6140 - val_loss: 0.6506 - val_accuracy: 0.6242\n",
      "Epoch 16/1000\n",
      "7474/7474 [==============================] - 0s 7us/sample - loss: 0.6610 - accuracy: 0.6086 - val_loss: 0.6469 - val_accuracy: 0.6295\n",
      "Epoch 17/1000\n",
      "7474/7474 [==============================] - 0s 6us/sample - loss: 0.6563 - accuracy: 0.6206 - val_loss: 0.6450 - val_accuracy: 0.6351\n",
      "Epoch 18/1000\n",
      "7474/7474 [==============================] - 0s 6us/sample - loss: 0.6573 - accuracy: 0.6155 - val_loss: 0.6439 - val_accuracy: 0.6380\n",
      "Epoch 19/1000\n",
      "7474/7474 [==============================] - 0s 6us/sample - loss: 0.6570 - accuracy: 0.6149 - val_loss: 0.6431 - val_accuracy: 0.6376\n",
      "Epoch 20/1000\n",
      "7474/7474 [==============================] - 0s 6us/sample - loss: 0.6550 - accuracy: 0.6204 - val_loss: 0.6421 - val_accuracy: 0.6404\n",
      "Epoch 21/1000\n",
      "7474/7474 [==============================] - 0s 7us/sample - loss: 0.6543 - accuracy: 0.6212 - val_loss: 0.6415 - val_accuracy: 0.6404\n",
      "Epoch 22/1000\n",
      "7474/7474 [==============================] - 0s 6us/sample - loss: 0.6556 - accuracy: 0.6201 - val_loss: 0.6412 - val_accuracy: 0.6383\n",
      "Epoch 23/1000\n",
      "7474/7474 [==============================] - 0s 6us/sample - loss: 0.6534 - accuracy: 0.6180 - val_loss: 0.6397 - val_accuracy: 0.6408\n",
      "Epoch 24/1000\n",
      "7474/7474 [==============================] - 0s 6us/sample - loss: 0.6528 - accuracy: 0.6223 - val_loss: 0.6397 - val_accuracy: 0.6423\n",
      "Epoch 25/1000\n",
      "7474/7474 [==============================] - 0s 6us/sample - loss: 0.6518 - accuracy: 0.6227 - val_loss: 0.6394 - val_accuracy: 0.6429\n",
      "Epoch 26/1000\n",
      "7474/7474 [==============================] - 0s 6us/sample - loss: 0.6515 - accuracy: 0.6215 - val_loss: 0.6385 - val_accuracy: 0.6451\n",
      "Epoch 27/1000\n",
      "7474/7474 [==============================] - 0s 6us/sample - loss: 0.6510 - accuracy: 0.6239 - val_loss: 0.6382 - val_accuracy: 0.6467\n",
      "Epoch 28/1000\n",
      "7474/7474 [==============================] - 0s 7us/sample - loss: 0.6501 - accuracy: 0.6236 - val_loss: 0.6370 - val_accuracy: 0.6451\n",
      "Epoch 29/1000\n",
      "7474/7474 [==============================] - 0s 7us/sample - loss: 0.6454 - accuracy: 0.6292 - val_loss: 0.6367 - val_accuracy: 0.6404\n",
      "Epoch 30/1000\n",
      "7474/7474 [==============================] - 0s 7us/sample - loss: 0.6477 - accuracy: 0.6347 - val_loss: 0.6363 - val_accuracy: 0.6414\n",
      "Epoch 31/1000\n",
      "7474/7474 [==============================] - 0s 6us/sample - loss: 0.6458 - accuracy: 0.6339 - val_loss: 0.6355 - val_accuracy: 0.6408\n",
      "Epoch 32/1000\n",
      "7474/7474 [==============================] - 0s 6us/sample - loss: 0.6483 - accuracy: 0.6323 - val_loss: 0.6351 - val_accuracy: 0.6414\n",
      "Epoch 33/1000\n",
      "7474/7474 [==============================] - 0s 6us/sample - loss: 0.6443 - accuracy: 0.6343 - val_loss: 0.6339 - val_accuracy: 0.6461\n",
      "Epoch 34/1000\n",
      "7474/7474 [==============================] - 0s 6us/sample - loss: 0.6434 - accuracy: 0.6343 - val_loss: 0.6352 - val_accuracy: 0.6451\n",
      "Epoch 35/1000\n",
      "7474/7474 [==============================] - 0s 6us/sample - loss: 0.6473 - accuracy: 0.6323 - val_loss: 0.6352 - val_accuracy: 0.6436\n",
      "Epoch 36/1000\n",
      "7474/7474 [==============================] - 0s 6us/sample - loss: 0.6410 - accuracy: 0.6371 - val_loss: 0.6337 - val_accuracy: 0.6492\n",
      "Epoch 37/1000\n",
      "7474/7474 [==============================] - 0s 6us/sample - loss: 0.6422 - accuracy: 0.6375 - val_loss: 0.6332 - val_accuracy: 0.6517\n",
      "Epoch 38/1000\n",
      "7474/7474 [==============================] - 0s 6us/sample - loss: 0.6407 - accuracy: 0.6424 - val_loss: 0.6328 - val_accuracy: 0.6539\n",
      "Epoch 39/1000\n",
      "7474/7474 [==============================] - 0s 6us/sample - loss: 0.6390 - accuracy: 0.6469 - val_loss: 0.6332 - val_accuracy: 0.6470\n",
      "Epoch 40/1000\n",
      "7474/7474 [==============================] - 0s 6us/sample - loss: 0.6397 - accuracy: 0.6462 - val_loss: 0.6314 - val_accuracy: 0.6576\n",
      "Epoch 41/1000\n",
      "7474/7474 [==============================] - 0s 6us/sample - loss: 0.6396 - accuracy: 0.6434 - val_loss: 0.6319 - val_accuracy: 0.6564\n",
      "Epoch 42/1000\n",
      "7474/7474 [==============================] - 0s 6us/sample - loss: 0.6425 - accuracy: 0.6410 - val_loss: 0.6328 - val_accuracy: 0.6501\n",
      "Epoch 43/1000\n",
      "7474/7474 [==============================] - 0s 6us/sample - loss: 0.6400 - accuracy: 0.6424 - val_loss: 0.6306 - val_accuracy: 0.6576\n",
      "Epoch 44/1000\n",
      "7474/7474 [==============================] - 0s 6us/sample - loss: 0.6423 - accuracy: 0.6476 - val_loss: 0.6311 - val_accuracy: 0.6610\n",
      "Epoch 45/1000\n",
      "7474/7474 [==============================] - 0s 6us/sample - loss: 0.6390 - accuracy: 0.6452 - val_loss: 0.6306 - val_accuracy: 0.6564\n",
      "Epoch 46/1000\n",
      "7474/7474 [==============================] - 0s 6us/sample - loss: 0.6383 - accuracy: 0.6531 - val_loss: 0.6307 - val_accuracy: 0.6617\n",
      "Epoch 00046: early stopping\n"
     ]
    },
    {
     "data": {
      "text/plain": [
       "<tensorflow.python.keras.callbacks.History at 0x1fda4841508>"
      ]
     },
     "execution_count": 60,
     "metadata": {},
     "output_type": "execute_result"
    }
   ],
   "source": [
    "model.fit(x=X_train, \n",
    "          y=y_train, \n",
    "          epochs=1000,\n",
    "          batch_size=256,\n",
    "          validation_data=(X_test, y_test),\n",
    "          callbacks=[early_stop]\n",
    "          )"
   ]
  },
  {
   "cell_type": "code",
   "execution_count": 54,
   "metadata": {},
   "outputs": [
    {
     "data": {
      "text/plain": [
       "<AxesSubplot:>"
      ]
     },
     "execution_count": 54,
     "metadata": {},
     "output_type": "execute_result"
    },
    {
     "data": {
      "image/png": "[encoded data removed]",
      "text/plain": [
       "<Figure size 432x288 with 1 Axes>"
      ]
     },
     "metadata": {
      "needs_background": "light"
     },
     "output_type": "display_data"
    }
   ],
   "source": [
    "model_loss = pd.DataFrame(model.history.history)\n",
    "model_loss.plot()"
   ]
  },
  {
   "cell_type": "markdown",
   "metadata": {},
   "source": [
    "# Comments"
   ]
  },
  {
   "cell_type": "code",
   "execution_count": 61,
   "metadata": {},
   "outputs": [
    {
     "name": "stdout",
     "output_type": "stream",
     "text": [
      "              precision    recall  f1-score   support\n",
      "\n",
      "           0       0.65      0.71      0.68      1607\n",
      "           1       0.68      0.61      0.64      1597\n",
      "\n",
      "    accuracy                           0.66      3204\n",
      "   macro avg       0.66      0.66      0.66      3204\n",
      "weighted avg       0.66      0.66      0.66      3204\n",
      "\n",
      "[[1145  462]\n",
      " [ 622  975]]\n"
     ]
    }
   ],
   "source": [
    "from sklearn.metrics import classification_report,confusion_matrix\n",
    "\n",
    "predictions = model.predict_classes(X_test)\n",
    "print(classification_report(y_test,predictions))\n",
    "print(confusion_matrix(y_test,predictions))"
   ]
  },
  {
   "cell_type": "markdown",
   "metadata": {},
   "source": [
    "The sequential model acquired an accuracy score of .65 - slightly outperforming the LSTM model (.52). Both models did not have a satisfactory validation loss. This leads me to believe that another model needs to be built that uses the tweets themselves as an input. Regardless of the model I ultimately choose, I will validate my results a test set of pre-labeled tweets. I will either scrape the tweets myself and classify them by hand, or I will find another dataset with tweets already labeled, and use those to validate my model."
   ]
  },
  {
   "cell_type": "code",
   "execution_count": null,
   "metadata": {},
   "outputs": [],
   "source": []
  }
 ],
 "metadata": {
  "kernelspec": {
   "display_name": "cds490",
   "language": "python",
   "name": "cds490"
  },
  "language_info": {
   "codemirror_mode": {
    "name": "ipython",
    "version": 3
   },
   "file_extension": ".py",
   "mimetype": "text/x-python",
   "name": "python",
   "nbconvert_exporter": "python",
   "pygments_lexer": "ipython3",
   "version": "3.7.7"
  }
 },
 "nbformat": 4,
 "nbformat_minor": 4
}
